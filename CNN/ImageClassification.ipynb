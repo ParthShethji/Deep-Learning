{
 "cells": [
  {
   "cell_type": "code",
   "execution_count": 3,
   "id": "e9544936-6201-45f6-8635-ba163f0fc651",
   "metadata": {},
   "outputs": [],
   "source": [
    "from tensorflow.keras.models import Sequential\n",
    "from tensorflow.keras.layers import Conv2D, MaxPooling2D, Dense, Flatten\n",
    "import numpy as np"
   ]
  },
  {
   "cell_type": "code",
   "execution_count": 9,
   "id": "3ce24636-b2ff-4ffa-a356-477c6ce5d702",
   "metadata": {},
   "outputs": [],
   "source": [
    "X_train = np.loadtxt('Image Classification Dataset/input.csv', delimiter=',')\n",
    "Y_trian = np.loadtxt('Image Classification Dataset/labels.csv', delimiter=',')\n",
    "X_test = np.loadtxt('Image Classification Dataset/input_test.csv', delimiter=',')\n",
    "Y_test = np.loadtxt('Image Classification Dataset/labels_test.csv', delimiter=',')"
   ]
  },
  {
   "cell_type": "code",
   "execution_count": 10,
   "id": "8d7af8cb-974e-4504-ba31-b053a40c7f1a",
   "metadata": {},
   "outputs": [
    {
     "name": "stdout",
     "output_type": "stream",
     "text": [
      "shape of X_train (2000, 30000)\n",
      "shape of Y_trian (2000,)\n",
      "shape of X_test (400, 30000)\n",
      "shape of Y_test (400,)\n"
     ]
    }
   ],
   "source": [
    "print(\"shape of X_train\", X_train.shape) \n",
    "print(\"shape of Y_trian\", Y_trian.shape) \n",
    "print(\"shape of X_test\", X_test.shape) \n",
    "print(\"shape of Y_test\", Y_test.shape) "
   ]
  },
  {
   "cell_type": "code",
   "execution_count": null,
   "id": "41cdfc58-0260-4839-b8c2-d3f50a88a816",
   "metadata": {},
   "outputs": [],
   "source": []
  }
 ],
 "metadata": {
  "kernelspec": {
   "display_name": "Python 3 (ipykernel)",
   "language": "python",
   "name": "python3"
  },
  "language_info": {
   "codemirror_mode": {
    "name": "ipython",
    "version": 3
   },
   "file_extension": ".py",
   "mimetype": "text/x-python",
   "name": "python",
   "nbconvert_exporter": "python",
   "pygments_lexer": "ipython3",
   "version": "3.10.4"
  }
 },
 "nbformat": 4,
 "nbformat_minor": 5
}
